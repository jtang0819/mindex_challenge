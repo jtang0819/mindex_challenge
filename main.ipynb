{
 "cells": [
  {
   "cell_type": "code",
   "execution_count": null,
   "metadata": {},
   "outputs": [],
   "source": [
    "import pandas as pd\n",
    "import boto3\n",
    "from dotenv import load_dotenv\n",
    "import os\n",
    "from sqlalchemy import create_engine"
   ]
  },
  {
   "cell_type": "code",
   "execution_count": null,
   "metadata": {},
   "outputs": [],
   "source": [
    "load_dotenv()\n",
    "\n",
    "ACCESS_KEY_ID = os.getenv('AWS_ACCESS_KEY_ID')\n",
    "AWS_SECRET_ACCESS_KEY = os.getenv('AWS_SECRET_ACCESS_KEY')\n",
    "HOSTNAME = os.getenv('HOSTNAME')\n",
    "USER = os.getenv('USER')\n",
    "PASSWORD = os.getenv('PASSWORD')\n",
    "TABLE_NAME = os.getenv('TABLE_NAME')\n",
    "DATABASE_NAME = os.getenv('DATABASE_NAME')\n",
    "BUCKET_NAME = os.getenv('BUCKET_NAME')"
   ]
  },
  {
   "cell_type": "code",
   "execution_count": null,
   "metadata": {},
   "outputs": [],
   "source": [
    "#get data\n",
    "session = boto3.Session(\n",
    "    aws_access_key_id=ACCESS_KEY_ID,\n",
    "    aws_secret_access_key=AWS_SECRET_ACCESS_KEY,\n",
    ")\n",
    "\n",
    "df1 = pd.read_csv(f's3://{BUCKET_NAME}/bengals.csv')\n",
    "df2 = pd.read_csv(f's3://{BUCKET_NAME}/boyd_receiving.csv')\n",
    "df3 = pd.read_csv(f's3://{BUCKET_NAME}/chase_receiving.csv')\n",
    "df4 = pd.read_csv(f's3://{BUCKET_NAME}/higgins_receiving.csv')"
   ]
  },
  {
   "cell_type": "code",
   "execution_count": null,
   "metadata": {},
   "outputs": [],
   "source": [
    "#transform data\n",
    "df2.columns = ['Week', 'Boyd Yards', 'Boyd TD']\n",
    "df3.columns = ['Week', 'Chase Yards', 'Chase TD']\n",
    "df4.columns = ['Week', 'Higgins Yards', 'Higgins TD']\n",
    "merge1 = pd.merge(df1, df2, on='Week')\n",
    "merge2 = pd.merge(merge1, df3, on='Week')\n",
    "final_merge = pd.merge(merge2, df4, on='Week')\n",
    "final_merge['Result'] = final_merge['Result'].map({1.0: 'Win', 0: 'Loss'})"
   ]
  },
  {
   "cell_type": "code",
   "execution_count": null,
   "metadata": {},
   "outputs": [],
   "source": [
    "#load to sql server\n",
    "engine = create_engine(f'postgresql://{USER}:{PASSWORD}@{HOSTNAME}:5432/{DATABASE_NAME}')\n",
    "final_merge.to_sql(name=TABLE_NAME, con=engine, schema='public', if_exists='replace')\n"
   ]
  },
  {
   "cell_type": "code",
   "execution_count": null,
   "metadata": {},
   "outputs": [],
   "source": [
    "#dataframe checks\n",
    "print(df1.head())\n",
    "print(df2.head())\n",
    "print(df3.head())\n",
    "print(df4.head())\n",
    "print(final_merge.head())"
   ]
  }
 ],
 "metadata": {
  "kernelspec": {
   "display_name": "Python 3",
   "language": "python",
   "name": "python3"
  },
  "language_info": {
   "codemirror_mode": {
    "name": "ipython",
    "version": 3
   },
   "file_extension": ".py",
   "mimetype": "text/x-python",
   "name": "python",
   "nbconvert_exporter": "python",
   "pygments_lexer": "ipython3",
   "version": "3.11.6"
  }
 },
 "nbformat": 4,
 "nbformat_minor": 4
}
